{
 "cells": [
  {
   "cell_type": "code",
   "execution_count": 84,
   "metadata": {},
   "outputs": [
    {
     "name": "stdout",
     "output_type": "stream",
     "text": [
      "The minumum temperature is: 0\n",
      "The maximum temperature is: 90\n"
     ]
    }
   ],
   "source": [
    "temperatures_C = [33, 66, 65, 0, 59, 60, 62, 64, 70, 76, 80, 81, 80, 83, 90, 79, 61, 53, 50, 49, 53, 48, 45, 39]\n",
    "\n",
    "\n",
    "mintemp = min(temperatures_C) #finds the minimum temperature of all values in the list\n",
    "print(\"The minumum temperature is:\", mintemp) # prints the minmum temperature variable\n",
    "\n",
    "maxtemp = max(temperatures_C) #finds the maximum temperature of all values in the list\n",
    "print(\"The maximum temperature is:\", maxtemp)"
   ]
  },
  {
   "cell_type": "code",
   "execution_count": 85,
   "metadata": {},
   "outputs": [
    {
     "name": "stdout",
     "output_type": "stream",
     "text": [
      "[70, 76, 80, 81, 80, 83, 90, 79]\n"
     ]
    }
   ],
   "source": [
    "temperatures_70_and_over = []\n",
    "\n",
    "\n",
    "for each_temp in temperatures_C:\n",
    "    if each_temp >= 70:\n",
    "        temperatures_70_and_over.append(each_temp)\n",
    "    else:\n",
    "        pass\n",
    "    \n",
    "print(temperatures_70_and_over)"
   ]
  },
  {
   "cell_type": "code",
   "execution_count": 86,
   "metadata": {},
   "outputs": [
    {
     "name": "stdout",
     "output_type": "stream",
     "text": [
      "The average/mean to 2 decimal places is: 60.25\n"
     ]
    }
   ],
   "source": [
    "import statistics\n",
    "avg_temp = statistics.mean(temperatures_C)\n",
    "print(\"The average/mean to 2 decimal places is:\", avg_temp)"
   ]
  },
  {
   "cell_type": "code",
   "execution_count": 87,
   "metadata": {},
   "outputs": [
    {
     "name": "stdout",
     "output_type": "stream",
     "text": [
      "The new average/mean to 2 decimal places is: 62.869565217391305\n"
     ]
    }
   ],
   "source": [
    "#To estimate the missing value at 3am, I will remove it and add a value that is the average of all the others \n",
    "\n",
    "temperatures_C.remove(0)\n",
    "avg_temp = statistics.mean(temperatures_C)\n",
    "print(\"The new average/mean to 2 decimal places is:\", avg_temp)"
   ]
  },
  {
   "cell_type": "code",
   "execution_count": 104,
   "metadata": {},
   "outputs": [
    {
     "name": "stdout",
     "output_type": "stream",
     "text": [
      "The List Items after Multiplication: [91.4, 150.8, 149.0, 138.2, 140.0, 143.60000000000002, 147.2, 158.0, 168.8, 176.0, 177.8, 176.0, 181.4, 194.0, 174.20000000000002, 141.8, 127.4, 122.0, 120.2, 127.4, 118.4, 113.0, 102.2]\n"
     ]
    }
   ],
   "source": [
    "#Creates a new list of from the Celsius values to Fahrenheit values\n",
    "temperatures_C_FH = []\n",
    "\n",
    " \n",
    "for j in temperatures_C:\n",
    "    temperatures_C_FH.append((j * 1.8) + 32)\n",
    "\n",
    "print(\"The List Items after Multiplication:\", temperatures_C_FH)\n"
   ]
  },
  {
   "cell_type": "code",
   "execution_count": 116,
   "metadata": {},
   "outputs": [
    {
     "name": "stdout",
     "output_type": "stream",
     "text": [
      "Replace Cooling system\n"
     ]
    }
   ],
   "source": [
    "# checking if any of the conditions have been met to state whether the cooling system needs replacing\n",
    "\n",
    "temps_greater_equal_70 = 0\n",
    "\n",
    "for each_tmp in temperatures_C:\n",
    "    if each_tmp >= 70:\n",
    "        temps_greater_equal_70 += 1\n",
    "    else:\n",
    "        pass\n",
    "     \n",
    "if temps_greater_equal_70 > 4 or maxtemp >= 80 or avg_temp:\n",
    "    print(\"Replace Cooling system\")\n",
    "\n"
   ]
  },
  {
   "cell_type": "code",
   "execution_count": null,
   "metadata": {},
   "outputs": [],
   "source": []
  }
 ],
 "metadata": {
  "kernelspec": {
   "display_name": "Python 3",
   "language": "python",
   "name": "python3"
  },
  "language_info": {
   "codemirror_mode": {
    "name": "ipython",
    "version": 3
   },
   "file_extension": ".py",
   "mimetype": "text/x-python",
   "name": "python",
   "nbconvert_exporter": "python",
   "pygments_lexer": "ipython3",
   "version": "3.8.3"
  }
 },
 "nbformat": 4,
 "nbformat_minor": 4
}
