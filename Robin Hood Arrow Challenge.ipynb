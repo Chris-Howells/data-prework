{
 "cells": [
  {
   "cell_type": "code",
   "execution_count": 51,
   "metadata": {},
   "outputs": [
    {
     "name": "stdout",
     "output_type": "stream",
     "text": [
      "The coordinates of the points where an arrow hits another arrow are: [(4, 5), (4, 5), (5, 7), (2, 2), (-3, 2), (-3, 2), (5, 7), (5, 7), (2, 2)]\n"
     ]
    }
   ],
   "source": [
    "points = [(4, 5), (-0, 2), (4, 7), (1, -3), (3, -2), (4, 5), (3, 2), (5, 7), (-5, 7), (2, 2), (-4, 5), (0, -2),\n",
    "          (-4, 7), (-1, 3), (-3, 2), (-4, -5), (-3, 2), (5, 7), (5, 7), (2, 2), (9, 9), (-8, -9)]\n",
    "\n",
    "#creates a function that finds duplicated coordinates which is where double+ arrows have hit\n",
    "def checkdups(data):\n",
    "    double_arrows = []\n",
    "    for i in data:\n",
    "        if data.count(i)>1:\n",
    "            double_arrows.append(i)\n",
    "    print(\"The coordinates of the points where an arrow hits another arrow are:\", double_arrows)\n",
    "checkdups(points)\n",
    "\n"
   ]
  },
  {
   "cell_type": "code",
   "execution_count": 37,
   "metadata": {},
   "outputs": [
    {
     "name": "stdout",
     "output_type": "stream",
     "text": [
      "No_of_arrows in Q1: 10\n",
      "No_of_arrows in Q2: 6\n",
      "No_of_arrows in Q3: 2\n",
      "No_of_arrows in Q4: 2\n",
      "No_of_arrows in no quadrant: 2\n"
     ]
    }
   ],
   "source": [
    "Q1=0\n",
    "Q2=0\n",
    "Q3=0\n",
    "Q4=0\n",
    "no_quadrant=0\n",
    "\n",
    "for (x,y) in points:\n",
    "    if (x>0 and y>0):\n",
    "        Q1+=1\n",
    "    elif (x<0 and y>0):\n",
    "        Q2+=1\n",
    "    elif (x<0 and y<0):\n",
    "        Q3+=1\n",
    "    elif (x>0 and y<0):\n",
    "        Q4+=1\n",
    "    elif (x==0 or y==0):\n",
    "        no_quadrant+=1\n",
    "\n",
    "    \n",
    "\n",
    "print(\"No_of_arrows in Q1:\", Q1)\n",
    "print(\"No_of_arrows in Q2:\", Q2)\n",
    "print(\"No_of_arrows in Q3:\", Q3)\n",
    "print(\"No_of_arrows in Q4:\", Q4)\n",
    "print(\"No_of_arrows in no quadrant:\", no_quadrant)"
   ]
  },
  {
   "cell_type": "code",
   "execution_count": 48,
   "metadata": {},
   "outputs": [
    {
     "name": "stdout",
     "output_type": "stream",
     "text": [
      "The closest point to the centre is: [(0, 2), (0, -2)]\n",
      "Distance to the centre is: 2.0\n"
     ]
    }
   ],
   "source": [
    "import math\n",
    "import numpy as np\n",
    "\n",
    "#create a function that finds values the closest to the centre. I have chosen the two closest as they are equal (0,2) and (0,-2)\n",
    "\n",
    "def pClosest(points, K): \n",
    "  \n",
    "    points.sort(key = lambda K: K[0]**2 + K[1]**2) \n",
    "  \n",
    "    return points[:K] \n",
    "  \n",
    "\n",
    "points = [(4, 5), (-0, 2), (4, 7), (1, -3), (3, -2), (4, 5), (3, 2), (5, 7), (-5, 7), (2, 2), (-4, 5), (0, -2),\n",
    "          (-4, 7), (-1, 3), (-3, 2), (-4, -5), (-3, 2), (5, 7), (5, 7), (2, 2), (9, 9), (-8, -9)]\n",
    "\n",
    "K = 2\n",
    "\n",
    "closest_point_to_centre = pClosest(points, K)\n",
    "\n",
    "print(\"The closest point to the centre is:\", closest_point_to_centre) \n",
    "\n",
    "\n",
    "point_a = np.array((0,0))\n",
    "point_b = np.array((0,2))\n",
    "\n",
    "distance = np.linalg.norm(point_a - point_b) #Calculates the distance to the first points\n",
    "print(\"Distance to the centre is:\", distance)"
   ]
  },
  {
   "cell_type": "code",
   "execution_count": 45,
   "metadata": {},
   "outputs": [
    {
     "data": {
      "text/plain": [
       "2.0"
      ]
     },
     "execution_count": 45,
     "metadata": {},
     "output_type": "execute_result"
    }
   ],
   "source": [
    "#creates a function that works out the distance between two points\n",
    "\n",
    "def Distance(x1,y1,x2,y2):\n",
    "    dist = ( ((x1-x2)**2) + (y1-y2)**2)**.5\n",
    "    return dist\n",
    "    print(dist)\n",
    "\n",
    "Distance(0,0,0,2) # now I add the centre point and the closest point. -2 and 2 have the same distance"
   ]
  },
  {
   "cell_type": "code",
   "execution_count": 26,
   "metadata": {},
   "outputs": [
    {
     "name": "stdout",
     "output_type": "stream",
     "text": [
      "Resultant tuple list:  [(9, 9)]\n",
      "Resultant tuple list:  [(-8, -9)]\n",
      "Number of arrows out of range: 2\n"
     ]
    }
   ],
   "source": [
    "#tells us all the arrows that are 9 cm or above away from the centre which are all that aren't included in the circle radius\n",
    "result = [i for i in points if i[1] >= 9] \n",
    "print(\"Resultant tuple list: \", str(result)) \n",
    "\n",
    "result1= [i for i in points if i[1] <= -9] \n",
    "print(\"Resultant tuple list: \", str(result1))\n",
    "\n",
    "no_out_of_range = len(result1 + result)\n",
    "print(\"Number of arrows out of range:\", no_out_of_range)"
   ]
  },
  {
   "cell_type": "code",
   "execution_count": 50,
   "metadata": {},
   "outputs": [
    {
     "name": "stdout",
     "output_type": "stream",
     "text": [
      "Number of points out of range: 2\n"
     ]
    }
   ],
   "source": [
    "#This is another way of counting the number of points out of range\n",
    "\n",
    "points_out_of_range=0\n",
    "for (x,y) in points:\n",
    "    if (x>9 and y>9):\n",
    "        points_out_of_range+=1\n",
    "    elif (x<-9 and y<-9):\n",
    "        points_out_of_range+=1\n",
    "    elif (x==0 or y==0):\n",
    "        points_out_of_range+=1\n",
    "\n",
    "    \n",
    "\n",
    "print(\"Number of points out of range:\", points_out_of_range)\n"
   ]
  },
  {
   "cell_type": "code",
   "execution_count": null,
   "metadata": {},
   "outputs": [],
   "source": []
  }
 ],
 "metadata": {
  "kernelspec": {
   "display_name": "Python 3",
   "language": "python",
   "name": "python3"
  },
  "language_info": {
   "codemirror_mode": {
    "name": "ipython",
    "version": 3
   },
   "file_extension": ".py",
   "mimetype": "text/x-python",
   "name": "python",
   "nbconvert_exporter": "python",
   "pygments_lexer": "ipython3",
   "version": "3.8.3"
  }
 },
 "nbformat": 4,
 "nbformat_minor": 4
}
