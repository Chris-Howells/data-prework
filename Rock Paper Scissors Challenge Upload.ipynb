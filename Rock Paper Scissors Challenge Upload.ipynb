{
 "cells": [
  {
   "cell_type": "code",
   "execution_count": 17,
   "metadata": {},
   "outputs": [],
   "source": [
    "import random\n",
    "#Define the variables\n",
    "gestures = ['rock', 'paper', 'scissors']\n",
    "\n",
    "#creates a function that lets the player input an option\n",
    "def player_choice():\n",
    "    global player\n",
    "    player = input(\"Choose: rock, paper or scissors?\")\n",
    "    if player in gestures:\n",
    "        return(player)\n",
    "    else:\n",
    "        print(\"Please check your spelling!\")\n",
    "\n",
    "\n",
    "#creates a function that generate a random computer result\n",
    "def return_comp_choice():\n",
    "    global comp_choice\n",
    "    comp_choice = random.choice(gestures)\n",
    "    return(comp_choice)\n",
    "    print(comp_choice)\n",
    "\n",
    "\n"
   ]
  },
  {
   "cell_type": "code",
   "execution_count": 18,
   "metadata": {},
   "outputs": [
    {
     "name": "stdout",
     "output_type": "stream",
     "text": [
      "Choose: rock, paper or scissors?paper\n",
      "You lose! scissors beats paper Total number of games: 1\n",
      "Choose: rock, paper or scissors?scissors\n",
      "You win! scissors beats paper Total number of games: 2\n",
      "Choose: rock, paper or scissors?scissors\n",
      "You win! scissors beats paper Total number of games: 3\n",
      "Choose: rock, paper or scissors?paper\n",
      "Tie! Total number of games: 4\n",
      "Choose: rock, paper or scissors?paper\n",
      "You win! paper beats rock Total number of games: 5\n",
      "You Won\n"
     ]
    }
   ],
   "source": [
    "#creates a function to play teh game calling upon previosu functions\n",
    "\n",
    "def game():\n",
    "    cpu_score = 0\n",
    "    player_score = 0\n",
    "    n_rounds = 0\n",
    "    while cpu_score <= 2 and player_score <= 2 and n_rounds <=5:\n",
    "        player_choice()\n",
    "        return_comp_choice()\n",
    "        if player == comp_choice:\n",
    "            n_rounds += 1\n",
    "            print(\"Tie!\", \"Total number of games:\", n_rounds)\n",
    "        elif player == \"rock\":\n",
    "            if comp_choice == \"paper\":\n",
    "                n_rounds += 1\n",
    "                cpu_score += 1\n",
    "                print(\"You lose!\", comp_choice, \"beats\", player, \"Total number of games:\", n_rounds)\n",
    "            else:\n",
    "                n_rounds += 1\n",
    "                player_score += 1\n",
    "                print(\"You win!\", player, \"beats\", comp_choice, \"Total number of games:\", n_rounds)\n",
    "        elif player == \"paper\":\n",
    "                if comp_choice == \"scissors\":\n",
    "                    n_rounds += 1\n",
    "                    cpu_score += 1\n",
    "                    print(\"You lose!\", comp_choice, \"beats\", player, \"Total number of games:\", n_rounds)\n",
    "                else:\n",
    "                    n_rounds += 1\n",
    "                    player_score += 1\n",
    "                    print(\"You win!\", player, \"beats\", comp_choice, \"Total number of games:\", n_rounds)\n",
    "        elif player == \"scissors\":\n",
    "                if comp_choice == \"rock\":\n",
    "                    n_rounds += 1\n",
    "                    comp_score += 1\n",
    "                    print(\"You lose...\", comp_choice, \"beats\", player, \"Total number of games:\", n_rounds)\n",
    "                else:\n",
    "                    n_rounds += 1\n",
    "                    player_score += 1\n",
    "                    print(\"You win!\", player, \"beats\", comp_choice, \"Total number of games:\", n_rounds)\n",
    "        else:\n",
    "            print(\"That's not a valid play. Check your spelling!\", \"Total number of games:\", n_rounds)\n",
    "\n",
    "    if cpu_score > player_score:\n",
    "        print(\"Computer Won\")\n",
    "    elif cpu_score < player_score:\n",
    "        print(\"You Won\")\n",
    "    elif cpu_score == player_score: \n",
    "        print(\"Total is tied\")\n",
    "game()"
   ]
  },
  {
   "cell_type": "code",
   "execution_count": null,
   "metadata": {},
   "outputs": [],
   "source": []
  }
 ],
 "metadata": {
  "kernelspec": {
   "display_name": "Python 3",
   "language": "python",
   "name": "python3"
  },
  "language_info": {
   "codemirror_mode": {
    "name": "ipython",
    "version": 3
   },
   "file_extension": ".py",
   "mimetype": "text/x-python",
   "name": "python",
   "nbconvert_exporter": "python",
   "pygments_lexer": "ipython3",
   "version": "3.8.3"
  }
 },
 "nbformat": 4,
 "nbformat_minor": 4
}
