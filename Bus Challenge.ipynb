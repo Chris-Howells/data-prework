{
 "cells": [
  {
   "cell_type": "code",
   "execution_count": 62,
   "metadata": {},
   "outputs": [
    {
     "name": "stdout",
     "output_type": "stream",
     "text": [
      "The number of stops is: 9\n",
      "The runnning total of people on the bus is: [10, 13, 11, 10, 14, 10, 7, 5, 4]\n",
      "The maximum number of people on the bus is: 14\n",
      "The average occupation float is: 9.333333333333334\n",
      "The standard deviation of the people on the bus is: 3.391164991562634\n"
     ]
    }
   ],
   "source": [
    "#variables\n",
    "stops = [(10, -0), (4, -1), (3, -5), (3, -4), (5, -1), (1, -5), (5, -8), (4, -6), (2, -3)]\n",
    "\n",
    "no_of_stops = len(stops)\n",
    "print(\"The number of stops is:\", no_of_stops)\n",
    "\n",
    "#adds the number of people in the bus and out of the bus together for eachs top by suming each tuple elemtent \n",
    "#and put it into a list\n",
    "each_stop_total = list(map(sum, stops))\n",
    "\n",
    "#carries a running total of each stop by summing the cumulative total for each of the list's values\n",
    "from numpy import cumsum\n",
    "running_total = list(cumsum(each_stop_total))\n",
    "print(\"The runnning total of people on the bus is:\", running_total)\n",
    "\n",
    "maximum_ppl = max(running_total)\n",
    "print(\"The maximum number of people on the bus is:\", maximum_ppl)\n",
    "\n",
    "import statistics\n",
    "\n",
    "#Turn the running total list into floats to get the correct average value\n",
    "float_running_total = [float(i) for i in running_total]\n",
    "\n",
    "#calculating the average of the list\n",
    "average_ppl_float = statistics.mean(float_running_total)\n",
    "print('The average occupation float is:', average_ppl_float)\n",
    "\n",
    "#calculating the standard deviation of the list\n",
    "stdev_ppl_on_bus = statistics.stdev(float_running_total)\n",
    "print(\"The standard deviation of the people on the bus is:\", stdev_ppl_on_bus)"
   ]
  },
  {
   "cell_type": "code",
   "execution_count": null,
   "metadata": {},
   "outputs": [],
   "source": [
    "\n",
    "\n",
    "\n",
    "\n",
    "\n"
   ]
  },
  {
   "cell_type": "code",
   "execution_count": null,
   "metadata": {},
   "outputs": [],
   "source": []
  }
 ],
 "metadata": {
  "kernelspec": {
   "display_name": "Python 3",
   "language": "python",
   "name": "python3"
  },
  "language_info": {
   "codemirror_mode": {
    "name": "ipython",
    "version": 3
   },
   "file_extension": ".py",
   "mimetype": "text/x-python",
   "name": "python",
   "nbconvert_exporter": "python",
   "pygments_lexer": "ipython3",
   "version": "3.8.3"
  }
 },
 "nbformat": 4,
 "nbformat_minor": 4
}
